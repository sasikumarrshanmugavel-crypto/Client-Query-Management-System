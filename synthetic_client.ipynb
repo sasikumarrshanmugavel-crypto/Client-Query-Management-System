{
 "cells": [
  {
   "cell_type": "code",
   "execution_count": 1,
   "id": "b8a5aaf5",
   "metadata": {},
   "outputs": [],
   "source": [
    "import pandas as pd\n",
    "import sqlite3\n",
    "from datetime import datetime"
   ]
  },
  {
   "cell_type": "code",
   "execution_count": 2,
   "id": "e11f64d0",
   "metadata": {},
   "outputs": [],
   "source": [
    "df= pd.read_csv(\"synthetic_client_queries.csv\")"
   ]
  },
  {
   "cell_type": "code",
   "execution_count": 3,
   "id": "13b35cc1",
   "metadata": {},
   "outputs": [
    {
     "data": {
      "text/html": [
       "<div>\n",
       "<style scoped>\n",
       "    .dataframe tbody tr th:only-of-type {\n",
       "        vertical-align: middle;\n",
       "    }\n",
       "\n",
       "    .dataframe tbody tr th {\n",
       "        vertical-align: top;\n",
       "    }\n",
       "\n",
       "    .dataframe thead th {\n",
       "        text-align: right;\n",
       "    }\n",
       "</style>\n",
       "<table border=\"1\" class=\"dataframe\">\n",
       "  <thead>\n",
       "    <tr style=\"text-align: right;\">\n",
       "      <th></th>\n",
       "      <th>query_id</th>\n",
       "      <th>client_email</th>\n",
       "      <th>client_mobile</th>\n",
       "      <th>query_heading</th>\n",
       "      <th>query_description</th>\n",
       "      <th>status</th>\n",
       "      <th>date_raised</th>\n",
       "      <th>date_closed</th>\n",
       "    </tr>\n",
       "  </thead>\n",
       "  <tbody>\n",
       "    <tr>\n",
       "      <th>0</th>\n",
       "      <td>Q0001</td>\n",
       "      <td>joshuaoneill@example.net</td>\n",
       "      <td>6638686049</td>\n",
       "      <td>Bug Report</td>\n",
       "      <td>Tab focus jumps incorrectly.</td>\n",
       "      <td>Closed</td>\n",
       "      <td>2025-02-26</td>\n",
       "      <td>2025-02-27</td>\n",
       "    </tr>\n",
       "    <tr>\n",
       "      <th>1</th>\n",
       "      <td>Q0002</td>\n",
       "      <td>edward91@example.net</td>\n",
       "      <td>6369365581</td>\n",
       "      <td>Bug Report</td>\n",
       "      <td>Form validation not working properly.</td>\n",
       "      <td>Closed</td>\n",
       "      <td>2025-07-22</td>\n",
       "      <td>2025-08-01</td>\n",
       "    </tr>\n",
       "    <tr>\n",
       "      <th>2</th>\n",
       "      <td>Q0003</td>\n",
       "      <td>cookmason@example.org</td>\n",
       "      <td>2686615523</td>\n",
       "      <td>Account Suspension</td>\n",
       "      <td>Need help lifting restrictions.</td>\n",
       "      <td>Closed</td>\n",
       "      <td>2025-06-18</td>\n",
       "      <td>2025-06-19</td>\n",
       "    </tr>\n",
       "    <tr>\n",
       "      <th>3</th>\n",
       "      <td>Q0004</td>\n",
       "      <td>wtaylor@example.com</td>\n",
       "      <td>4753393384</td>\n",
       "      <td>Data Export</td>\n",
       "      <td>Need monthly data dump in CSV.</td>\n",
       "      <td>Closed</td>\n",
       "      <td>2025-02-25</td>\n",
       "      <td>2025-03-07</td>\n",
       "    </tr>\n",
       "    <tr>\n",
       "      <th>4</th>\n",
       "      <td>Q0005</td>\n",
       "      <td>rmoore@example.net</td>\n",
       "      <td>8523755943</td>\n",
       "      <td>UI Feedback</td>\n",
       "      <td>Icons not intuitive.</td>\n",
       "      <td>Closed</td>\n",
       "      <td>2025-06-19</td>\n",
       "      <td>2025-06-20</td>\n",
       "    </tr>\n",
       "    <tr>\n",
       "      <th>...</th>\n",
       "      <td>...</td>\n",
       "      <td>...</td>\n",
       "      <td>...</td>\n",
       "      <td>...</td>\n",
       "      <td>...</td>\n",
       "      <td>...</td>\n",
       "      <td>...</td>\n",
       "      <td>...</td>\n",
       "    </tr>\n",
       "    <tr>\n",
       "      <th>5195</th>\n",
       "      <td>Q5196</td>\n",
       "      <td>fhenry@example.org</td>\n",
       "      <td>2758293072</td>\n",
       "      <td>Payment Failure</td>\n",
       "      <td>EMI option not available anymore.</td>\n",
       "      <td>Closed</td>\n",
       "      <td>2025-05-03</td>\n",
       "      <td>2025-05-09</td>\n",
       "    </tr>\n",
       "    <tr>\n",
       "      <th>5196</th>\n",
       "      <td>Q5197</td>\n",
       "      <td>robert82@example.net</td>\n",
       "      <td>2400038786</td>\n",
       "      <td>Technical Support</td>\n",
       "      <td>Freezing during screen load.</td>\n",
       "      <td>Closed</td>\n",
       "      <td>2025-05-17</td>\n",
       "      <td>2025-05-20</td>\n",
       "    </tr>\n",
       "    <tr>\n",
       "      <th>5197</th>\n",
       "      <td>Q5198</td>\n",
       "      <td>mclaughlinmichael@example.net</td>\n",
       "      <td>312901852</td>\n",
       "      <td>Login Issue</td>\n",
       "      <td>Forgot my password and reset isn’t working.</td>\n",
       "      <td>Closed</td>\n",
       "      <td>2025-06-25</td>\n",
       "      <td>2025-07-04</td>\n",
       "    </tr>\n",
       "    <tr>\n",
       "      <th>5198</th>\n",
       "      <td>Q5199</td>\n",
       "      <td>vaughnkristen@example.org</td>\n",
       "      <td>795334441</td>\n",
       "      <td>UI Feedback</td>\n",
       "      <td>Graphs too compressed on mobile view.</td>\n",
       "      <td>Closed</td>\n",
       "      <td>2025-07-15</td>\n",
       "      <td>2025-07-24</td>\n",
       "    </tr>\n",
       "    <tr>\n",
       "      <th>5199</th>\n",
       "      <td>Q5200</td>\n",
       "      <td>kenneth76@example.com</td>\n",
       "      <td>9953237970</td>\n",
       "      <td>Payment Failure</td>\n",
       "      <td>Payment failed due to card error.</td>\n",
       "      <td>Closed</td>\n",
       "      <td>2025-06-27</td>\n",
       "      <td>2025-07-05</td>\n",
       "    </tr>\n",
       "  </tbody>\n",
       "</table>\n",
       "<p>5200 rows × 8 columns</p>\n",
       "</div>"
      ],
      "text/plain": [
       "     query_id                   client_email  client_mobile  \\\n",
       "0       Q0001       joshuaoneill@example.net     6638686049   \n",
       "1       Q0002           edward91@example.net     6369365581   \n",
       "2       Q0003          cookmason@example.org     2686615523   \n",
       "3       Q0004            wtaylor@example.com     4753393384   \n",
       "4       Q0005             rmoore@example.net     8523755943   \n",
       "...       ...                            ...            ...   \n",
       "5195    Q5196             fhenry@example.org     2758293072   \n",
       "5196    Q5197           robert82@example.net     2400038786   \n",
       "5197    Q5198  mclaughlinmichael@example.net      312901852   \n",
       "5198    Q5199      vaughnkristen@example.org      795334441   \n",
       "5199    Q5200          kenneth76@example.com     9953237970   \n",
       "\n",
       "           query_heading                            query_description  status  \\\n",
       "0             Bug Report                 Tab focus jumps incorrectly.  Closed   \n",
       "1             Bug Report        Form validation not working properly.  Closed   \n",
       "2     Account Suspension              Need help lifting restrictions.  Closed   \n",
       "3            Data Export               Need monthly data dump in CSV.  Closed   \n",
       "4            UI Feedback                         Icons not intuitive.  Closed   \n",
       "...                  ...                                          ...     ...   \n",
       "5195     Payment Failure            EMI option not available anymore.  Closed   \n",
       "5196   Technical Support                 Freezing during screen load.  Closed   \n",
       "5197         Login Issue  Forgot my password and reset isn’t working.  Closed   \n",
       "5198         UI Feedback        Graphs too compressed on mobile view.  Closed   \n",
       "5199     Payment Failure            Payment failed due to card error.  Closed   \n",
       "\n",
       "     date_raised date_closed  \n",
       "0     2025-02-26  2025-02-27  \n",
       "1     2025-07-22  2025-08-01  \n",
       "2     2025-06-18  2025-06-19  \n",
       "3     2025-02-25  2025-03-07  \n",
       "4     2025-06-19  2025-06-20  \n",
       "...          ...         ...  \n",
       "5195  2025-05-03  2025-05-09  \n",
       "5196  2025-05-17  2025-05-20  \n",
       "5197  2025-06-25  2025-07-04  \n",
       "5198  2025-07-15  2025-07-24  \n",
       "5199  2025-06-27  2025-07-05  \n",
       "\n",
       "[5200 rows x 8 columns]"
      ]
     },
     "execution_count": 3,
     "metadata": {},
     "output_type": "execute_result"
    }
   ],
   "source": [
    "df"
   ]
  },
  {
   "cell_type": "code",
   "execution_count": 4,
   "id": "3d3aeae4",
   "metadata": {},
   "outputs": [],
   "source": [
    "# Drop duplicate rows\n",
    "df.drop_duplicates(inplace=True)"
   ]
  },
  {
   "cell_type": "code",
   "execution_count": 5,
   "id": "bc72b237",
   "metadata": {},
   "outputs": [],
   "source": [
    "# Drop rows with missing essential values\n",
    "required_cols = ['query_id', 'client_email', 'query_heading']\n",
    "df.dropna(subset=required_cols, inplace=True)"
   ]
  },
  {
   "cell_type": "code",
   "execution_count": 6,
   "id": "f59e6a2e",
   "metadata": {},
   "outputs": [],
   "source": [
    "# Convert date columns to datetime\n",
    "for col in ['date_raised', 'date_closed']:\n",
    "    if col in df.columns:\n",
    "        df[col] = pd.to_datetime(df[col], errors='coerce')"
   ]
  },
  {
   "cell_type": "code",
   "execution_count": 7,
   "id": "813f09ef",
   "metadata": {},
   "outputs": [],
   "source": [
    "df['client_mobile'] = df['client_mobile'].astype(str)"
   ]
  },
  {
   "cell_type": "code",
   "execution_count": 8,
   "id": "1ece9ce5",
   "metadata": {},
   "outputs": [],
   "source": [
    "df.reset_index(drop=True, inplace=True)"
   ]
  },
  {
   "cell_type": "code",
   "execution_count": 9,
   "id": "7d87ced0",
   "metadata": {},
   "outputs": [],
   "source": [
    "db_path = \"queries_database.db\"\n",
    "\n",
    "# Connect to or create a new database\n",
    "conn = sqlite3.connect(db_path)\n",
    "cursor = conn.cursor()"
   ]
  },
  {
   "cell_type": "code",
   "execution_count": 10,
   "id": "5ae82f79",
   "metadata": {},
   "outputs": [
    {
     "name": "stdout",
     "output_type": "stream",
     "text": [
      "✅ Database and table created successfully.\n"
     ]
    }
   ],
   "source": [
    "cursor.execute(\"\"\"\n",
    "CREATE TABLE IF NOT EXISTS queries (\n",
    "    query_id TEXT PRIMARY KEY,\n",
    "    client_email TEXT,\n",
    "    client_mobile TEXT,\n",
    "    query_heading TEXT,\n",
    "    query_description TEXT,\n",
    "    status TEXT,\n",
    "    date_raised TEXT,\n",
    "    date_closed TEXT\n",
    ")\n",
    "\"\"\")\n",
    "\n",
    "conn.commit()\n",
    "print(\"✅ Database and table created successfully.\")"
   ]
  },
  {
   "cell_type": "code",
   "execution_count": 11,
   "id": "61cf3b17",
   "metadata": {},
   "outputs": [],
   "source": [
    "existing_ids = pd.read_sql(\"SELECT query_id FROM queries\", conn)['query_id'].tolist()"
   ]
  },
  {
   "cell_type": "code",
   "execution_count": 12,
   "id": "845e6fad",
   "metadata": {},
   "outputs": [
    {
     "name": "stdout",
     "output_type": "stream",
     "text": [
      "✅ 5200 new rows inserted into the database.\n"
     ]
    }
   ],
   "source": [
    "new_rows = df[~df['query_id'].isin(existing_ids)]\n",
    "\n",
    "if not new_rows.empty:\n",
    "    new_rows.to_sql('queries', conn, if_exists='append', index=False)\n",
    "    conn.commit()\n",
    "    print(f\"✅ {len(new_rows)} new rows inserted into the database.\")\n",
    "else:\n",
    "    print(\"ℹ️ No new rows to insert. Database is already up to date.\")\n"
   ]
  },
  {
   "cell_type": "code",
   "execution_count": 13,
   "id": "ef96869b",
   "metadata": {},
   "outputs": [
    {
     "name": "stdout",
     "output_type": "stream",
     "text": [
      "\n",
      "📊 Total rows in database: 5200\n",
      "  query_id              client_email client_mobile       query_heading  \\\n",
      "0    Q0001  joshuaoneill@example.net    6638686049          Bug Report   \n",
      "1    Q0002      edward91@example.net    6369365581          Bug Report   \n",
      "2    Q0003     cookmason@example.org    2686615523  Account Suspension   \n",
      "3    Q0004       wtaylor@example.com    4753393384         Data Export   \n",
      "4    Q0005        rmoore@example.net    8523755943         UI Feedback   \n",
      "\n",
      "                       query_description  status          date_raised  \\\n",
      "0           Tab focus jumps incorrectly.  Closed  2025-02-26 00:00:00   \n",
      "1  Form validation not working properly.  Closed  2025-07-22 00:00:00   \n",
      "2        Need help lifting restrictions.  Closed  2025-06-18 00:00:00   \n",
      "3         Need monthly data dump in CSV.  Closed  2025-02-25 00:00:00   \n",
      "4                   Icons not intuitive.  Closed  2025-06-19 00:00:00   \n",
      "\n",
      "           date_closed  \n",
      "0  2025-02-27 00:00:00  \n",
      "1  2025-08-01 00:00:00  \n",
      "2  2025-06-19 00:00:00  \n",
      "3  2025-03-07 00:00:00  \n",
      "4  2025-06-20 00:00:00  \n"
     ]
    }
   ],
   "source": [
    "stored_df = pd.read_sql(\"SELECT * FROM queries\", conn)\n",
    "print(f\"\\n📊 Total rows in database: {len(stored_df)}\")\n",
    "print(stored_df.head())"
   ]
  }
 ],
 "metadata": {
  "kernelspec": {
   "display_name": "Python 3",
   "language": "python",
   "name": "python3"
  },
  "language_info": {
   "codemirror_mode": {
    "name": "ipython",
    "version": 3
   },
   "file_extension": ".py",
   "mimetype": "text/x-python",
   "name": "python",
   "nbconvert_exporter": "python",
   "pygments_lexer": "ipython3",
   "version": "3.13.5"
  }
 },
 "nbformat": 4,
 "nbformat_minor": 5
}
